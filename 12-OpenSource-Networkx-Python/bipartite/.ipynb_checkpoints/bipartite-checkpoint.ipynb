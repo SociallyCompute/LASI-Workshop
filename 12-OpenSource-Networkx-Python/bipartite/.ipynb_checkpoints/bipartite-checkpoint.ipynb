{
 "cells": [
  {
   "cell_type": "markdown",
   "id": "a8e7c8ea-20ce-4fe4-8c0a-1ad9db6505c2",
   "metadata": {},
   "source": [
    "# Bipartite Overview"
   ]
  },
  {
   "cell_type": "markdown",
   "id": "70aa1e56-a495-4f21-974f-17a1250fcbd8",
   "metadata": {},
   "source": [
    "https://networkx.org/documentation/stable/reference/algorithms/bipartite.html?highlight=bipartite#module-networkx.algorithms.bipartite"
   ]
  },
  {
   "cell_type": "code",
   "execution_count": 1,
   "id": "e6572897-502c-4c26-bd25-a8ac6c6d14d4",
   "metadata": {},
   "outputs": [],
   "source": [
    "import networkx as nx\n",
    "import psycopg2\n",
    "import pandas as pd \n",
    "import sqlalchemy as salc\n",
    "import numpy as np\n",
    "import seaborn as sns\n",
    "import matplotlib.pyplot as plt\n",
    "import warnings\n",
    "import datetime\n",
    "import json\n",
    "from networkx.algorithms import bipartite\n",
    "\n",
    "warnings.filterwarnings('ignore')\n",
    "\n"
   ]
  },
  {
   "cell_type": "code",
   "execution_count": 2,
   "id": "3103b549-167d-44f6-85e4-7d0444ead3eb",
   "metadata": {},
   "outputs": [],
   "source": [
    "with open(\"config.json\") as config_file:\n",
    "    config = json.load(config_file)\n",
    "\n",
    "database_connection_string = 'postgresql+psycopg2://{}:{}@{}:{}/{}'.format(config['user'], config['password'], config['host'], config['port'], config['database'])\n",
    "\n",
    "dbschema='augur_data'\n",
    "engine = salc.create_engine(\n",
    "    database_connection_string,\n",
    "    connect_args={'options': '-csearch_path={}'.format(dbschema)})"
   ]
  },
  {
   "cell_type": "code",
   "execution_count": 3,
   "id": "bc625db1-63fb-4277-8fcc-b158ff74adc3",
   "metadata": {},
   "outputs": [],
   "source": [
    "B = nx.Graph()"
   ]
  },
  {
   "cell_type": "code",
   "execution_count": 4,
   "id": "efa8d21f-17e1-4d0a-92c4-5c9348f9b56c",
   "metadata": {},
   "outputs": [],
   "source": [
    "# Add nodes with the node attribute \"bipartite\"\n",
    "\n",
    "B.add_nodes_from([1, 2, 3, 4], bipartite=0)\n",
    "\n",
    "B.add_nodes_from([\"a\", \"b\", \"c\"], bipartite=1)\n",
    "\n",
    "# Add edges only between nodes of opposite node sets\n",
    "\n",
    "B.add_edges_from([(1, \"a\"), (1, \"b\"), (2, \"b\"), (2, \"c\"), (3, \"c\"), (4, \"a\")])"
   ]
  },
  {
   "cell_type": "code",
   "execution_count": 5,
   "id": "8aecb0df-524d-4e56-b34c-b4820af33da8",
   "metadata": {},
   "outputs": [
    {
     "data": {
      "text/plain": [
       "True"
      ]
     },
     "execution_count": 5,
     "metadata": {},
     "output_type": "execute_result"
    }
   ],
   "source": [
    "nx.is_connected(B)\n"
   ]
  },
  {
   "cell_type": "code",
   "execution_count": 6,
   "id": "eaaf42f4-63d1-41cc-8cfb-9eb8ed980b78",
   "metadata": {},
   "outputs": [],
   "source": [
    "\n",
    "\n",
    "bottom_nodes, top_nodes = bipartite.sets(B)"
   ]
  },
  {
   "cell_type": "code",
   "execution_count": 7,
   "id": "d2d14b5f-3113-4d29-bbed-d39cddbdcfab",
   "metadata": {},
   "outputs": [],
   "source": [
    "top_nodes = {n for n, d in B.nodes(data=True) if d[\"bipartite\"] == 0}\n",
    "\n",
    "bottom_nodes = set(B) - top_nodes"
   ]
  },
  {
   "cell_type": "code",
   "execution_count": 8,
   "id": "dd2cfdc2-0a15-42cf-bb29-26c508de1dcb",
   "metadata": {},
   "outputs": [
    {
     "name": "stdout",
     "output_type": "stream",
     "text": [
      "0.5\n"
     ]
    }
   ],
   "source": [
    "print(round(bipartite.density(B, bottom_nodes), 2))"
   ]
  },
  {
   "cell_type": "code",
   "execution_count": 9,
   "id": "2ec07266-8289-4f67-8d55-661989a7f442",
   "metadata": {},
   "outputs": [],
   "source": [
    "G = bipartite.projected_graph(B, top_nodes)"
   ]
  },
  {
   "cell_type": "code",
   "execution_count": 10,
   "id": "f086daea-fab0-499c-8e6c-01826a480b4f",
   "metadata": {},
   "outputs": [
    {
     "data": {
      "text/plain": [
       "[0, 1, 2, 3, 4]"
      ]
     },
     "execution_count": 10,
     "metadata": {},
     "output_type": "execute_result"
    }
   ],
   "source": [
    "RB = bipartite.random_graph(5, 7, 0.2)\n",
    "\n",
    "RB_top = {n for n, d in RB.nodes(data=True) if d[\"bipartite\"] == 0}\n",
    "\n",
    "RB_bottom = set(RB) - RB_top\n",
    "\n",
    "list(RB_top)\n",
    "\n",
    "\n"
   ]
  },
  {
   "cell_type": "code",
   "execution_count": 11,
   "id": "1ab6a5b7-294b-469c-a5a4-9aedb1f1676a",
   "metadata": {
    "tags": []
   },
   "outputs": [
    {
     "data": {
      "text/plain": [
       "[5, 6, 7, 8, 9, 10, 11]"
      ]
     },
     "execution_count": 11,
     "metadata": {},
     "output_type": "execute_result"
    }
   ],
   "source": [
    "list(RB_bottom)"
   ]
  },
  {
   "cell_type": "markdown",
   "id": "9a3bd289-a642-412a-a6bf-b4caa1916b9e",
   "metadata": {},
   "source": [
    "https://networkx.org/documentation/stable/reference/algorithms/generated/networkx.algorithms.bipartite.edgelist.read_edgelist.html#networkx.algorithms.bipartite.edgelist.read_edgelist"
   ]
  },
  {
   "cell_type": "markdown",
   "id": "38e4c398-8657-4a3f-96bf-1e76b50d0cbe",
   "metadata": {},
   "source": [
    "# Getting Actual Augur Network Data"
   ]
  },
  {
   "cell_type": "code",
   "execution_count": 12,
   "id": "bc912ce9-528c-42d8-883a-a058caf55cc5",
   "metadata": {},
   "outputs": [
    {
     "data": {
      "text/html": [
       "<div>\n",
       "<style scoped>\n",
       "    .dataframe tbody tr th:only-of-type {\n",
       "        vertical-align: middle;\n",
       "    }\n",
       "\n",
       "    .dataframe tbody tr th {\n",
       "        vertical-align: top;\n",
       "    }\n",
       "\n",
       "    .dataframe thead th {\n",
       "        text-align: right;\n",
       "    }\n",
       "</style>\n",
       "<table border=\"1\" class=\"dataframe\">\n",
       "  <thead>\n",
       "    <tr style=\"text-align: right;\">\n",
       "      <th></th>\n",
       "      <th>cntrb_id</th>\n",
       "      <th>repo_id</th>\n",
       "      <th>repo_name</th>\n",
       "      <th>repo_git</th>\n",
       "      <th>login</th>\n",
       "      <th>weight</th>\n",
       "    </tr>\n",
       "  </thead>\n",
       "  <tbody>\n",
       "    <tr>\n",
       "      <th>0</th>\n",
       "      <td>25537</td>\n",
       "      <td>1</td>\n",
       "      <td>rails</td>\n",
       "      <td>https://github.com/rails/rails.git</td>\n",
       "      <td>jcoyne</td>\n",
       "      <td>49</td>\n",
       "    </tr>\n",
       "    <tr>\n",
       "      <th>1</th>\n",
       "      <td>25566</td>\n",
       "      <td>1</td>\n",
       "      <td>rails</td>\n",
       "      <td>https://github.com/rails/rails.git</td>\n",
       "      <td>jeremyf</td>\n",
       "      <td>8</td>\n",
       "    </tr>\n",
       "    <tr>\n",
       "      <th>2</th>\n",
       "      <td>25577</td>\n",
       "      <td>1</td>\n",
       "      <td>rails</td>\n",
       "      <td>https://github.com/rails/rails.git</td>\n",
       "      <td>cbeer</td>\n",
       "      <td>1</td>\n",
       "    </tr>\n",
       "    <tr>\n",
       "      <th>3</th>\n",
       "      <td>25635</td>\n",
       "      <td>1</td>\n",
       "      <td>rails</td>\n",
       "      <td>https://github.com/rails/rails.git</td>\n",
       "      <td>twalpole</td>\n",
       "      <td>10</td>\n",
       "    </tr>\n",
       "    <tr>\n",
       "      <th>4</th>\n",
       "      <td>25952</td>\n",
       "      <td>1</td>\n",
       "      <td>rails</td>\n",
       "      <td>https://github.com/rails/rails.git</td>\n",
       "      <td>nicolasfranck</td>\n",
       "      <td>1</td>\n",
       "    </tr>\n",
       "    <tr>\n",
       "      <th>...</th>\n",
       "      <td>...</td>\n",
       "      <td>...</td>\n",
       "      <td>...</td>\n",
       "      <td>...</td>\n",
       "      <td>...</td>\n",
       "      <td>...</td>\n",
       "    </tr>\n",
       "    <tr>\n",
       "      <th>22322</th>\n",
       "      <td>25640</td>\n",
       "      <td>26093</td>\n",
       "      <td>xslt</td>\n",
       "      <td>https://github.com/ropensci/xslt</td>\n",
       "      <td>cboettig</td>\n",
       "      <td>1</td>\n",
       "    </tr>\n",
       "    <tr>\n",
       "      <th>22323</th>\n",
       "      <td>25678</td>\n",
       "      <td>26093</td>\n",
       "      <td>xslt</td>\n",
       "      <td>https://github.com/ropensci/xslt</td>\n",
       "      <td>jimhester</td>\n",
       "      <td>3</td>\n",
       "    </tr>\n",
       "    <tr>\n",
       "      <th>22324</th>\n",
       "      <td>25717</td>\n",
       "      <td>26093</td>\n",
       "      <td>xslt</td>\n",
       "      <td>https://github.com/ropensci/xslt</td>\n",
       "      <td>zkamvar</td>\n",
       "      <td>1</td>\n",
       "    </tr>\n",
       "    <tr>\n",
       "      <th>22325</th>\n",
       "      <td>42393</td>\n",
       "      <td>26093</td>\n",
       "      <td>xslt</td>\n",
       "      <td>https://github.com/ropensci/xslt</td>\n",
       "      <td>oggioniale</td>\n",
       "      <td>1</td>\n",
       "    </tr>\n",
       "    <tr>\n",
       "      <th>22326</th>\n",
       "      <td>51433</td>\n",
       "      <td>26093</td>\n",
       "      <td>xslt</td>\n",
       "      <td>https://github.com/ropensci/xslt</td>\n",
       "      <td>thomaszumbrunn</td>\n",
       "      <td>1</td>\n",
       "    </tr>\n",
       "  </tbody>\n",
       "</table>\n",
       "<p>22327 rows × 6 columns</p>\n",
       "</div>"
      ],
      "text/plain": [
       "       cntrb_id  repo_id repo_name                            repo_git  \\\n",
       "0         25537        1     rails  https://github.com/rails/rails.git   \n",
       "1         25566        1     rails  https://github.com/rails/rails.git   \n",
       "2         25577        1     rails  https://github.com/rails/rails.git   \n",
       "3         25635        1     rails  https://github.com/rails/rails.git   \n",
       "4         25952        1     rails  https://github.com/rails/rails.git   \n",
       "...         ...      ...       ...                                 ...   \n",
       "22322     25640    26093      xslt    https://github.com/ropensci/xslt   \n",
       "22323     25678    26093      xslt    https://github.com/ropensci/xslt   \n",
       "22324     25717    26093      xslt    https://github.com/ropensci/xslt   \n",
       "22325     42393    26093      xslt    https://github.com/ropensci/xslt   \n",
       "22326     51433    26093      xslt    https://github.com/ropensci/xslt   \n",
       "\n",
       "                login  weight  \n",
       "0              jcoyne      49  \n",
       "1             jeremyf       8  \n",
       "2               cbeer       1  \n",
       "3            twalpole      10  \n",
       "4       nicolasfranck       1  \n",
       "...               ...     ...  \n",
       "22322        cboettig       1  \n",
       "22323       jimhester       3  \n",
       "22324         zkamvar       1  \n",
       "22325      oggioniale       1  \n",
       "22326  thomaszumbrunn       1  \n",
       "\n",
       "[22327 rows x 6 columns]"
      ]
     },
     "metadata": {},
     "output_type": "display_data"
    },
    {
     "data": {
      "text/plain": [
       "cntrb_id      int64\n",
       "repo_id       int64\n",
       "repo_name    object\n",
       "repo_git     object\n",
       "login        object\n",
       "weight        int64\n",
       "dtype: object"
      ]
     },
     "execution_count": 12,
     "metadata": {},
     "output_type": "execute_result"
    }
   ],
   "source": [
    "contrib_net = pd.DataFrame()\n",
    "\n",
    "net_query = salc.sql.text(f\"\"\"\n",
    "            SELECT \n",
    "                a.cntrb_id,\n",
    "                a.repo_id,\n",
    "                b.repo_name,\n",
    "                b.repo_git,\n",
    "                a.login, \n",
    "                MAX ( RANK ) AS weight \n",
    "            FROM\n",
    "                explorer_contributor_actions a,\n",
    "                repo b \n",
    "            WHERE\n",
    "                a.repo_id = b.repo_id \n",
    "            GROUP BY\n",
    "                a.cntrb_id,\n",
    "                a.repo_id,\n",
    "                b.repo_name,\n",
    "                b.repo_git,\n",
    "                a.\"login\"\n",
    "            ORDER BY\n",
    "                repo_id;  \n",
    "\n",
    "                \"\"\")\n",
    "\n",
    "network = pd.read_sql(net_query, con=engine)\n",
    "\n",
    "display(network)\n",
    "\n",
    "network.dtypes"
   ]
  },
  {
   "cell_type": "code",
   "execution_count": null,
   "id": "31c75356-17d6-417b-a6e4-3eb8ff9b3024",
   "metadata": {},
   "outputs": [],
   "source": []
  },
  {
   "cell_type": "code",
   "execution_count": 13,
   "id": "1681f27e-bf70-47fa-9492-49d3a75edac3",
   "metadata": {},
   "outputs": [],
   "source": [
    "augNet = nx.Graph()"
   ]
  },
  {
   "cell_type": "code",
   "execution_count": 14,
   "id": "b0aa7c19-fb1f-4ce3-ae58-72b560688176",
   "metadata": {},
   "outputs": [],
   "source": [
    "# Add distinct repo ids\n",
    "# Add distinct contrib ids\n",
    "# Add edges between them "
   ]
  },
  {
   "cell_type": "code",
   "execution_count": 15,
   "id": "173bfac4-95b1-4752-b686-3e1652ed3f1b",
   "metadata": {},
   "outputs": [],
   "source": [
    "nodecontrb = network['cntrb_id']#.unique()"
   ]
  },
  {
   "cell_type": "code",
   "execution_count": 16,
   "id": "5ac57e14-7624-4c18-a7c4-4fd253ec382a",
   "metadata": {},
   "outputs": [
    {
     "name": "stdout",
     "output_type": "stream",
     "text": [
      "0        25537\n",
      "1        25566\n",
      "2        25577\n",
      "3        25635\n",
      "4        25952\n",
      "         ...  \n",
      "22322    25640\n",
      "22323    25678\n",
      "22324    25717\n",
      "22325    42393\n",
      "22326    51433\n",
      "Name: cntrb_id, Length: 22327, dtype: int64\n"
     ]
    }
   ],
   "source": [
    "print(nodecontrb)"
   ]
  },
  {
   "cell_type": "code",
   "execution_count": 17,
   "id": "d91b6580-feed-48bf-8431-796ab72b1123",
   "metadata": {},
   "outputs": [],
   "source": [
    "noderepo = network['repo_git']#.unique()"
   ]
  },
  {
   "cell_type": "code",
   "execution_count": 18,
   "id": "d2d4dffa-35fb-455e-8de8-9a271165d332",
   "metadata": {},
   "outputs": [],
   "source": [
    "#print(noderepo)\n",
    "networker = pd.DataFrame({'repo': noderepo, 'contrib': nodecontrb})"
   ]
  },
  {
   "cell_type": "code",
   "execution_count": 19,
   "id": "14f3b275-a008-43df-a430-ce7d965f4a18",
   "metadata": {},
   "outputs": [],
   "source": [
    "augNet.add_nodes_from(networker.contrib, bipartite=0)"
   ]
  },
  {
   "cell_type": "code",
   "execution_count": 20,
   "id": "54ef2a45-bf66-459c-a5ac-2b4f639697e1",
   "metadata": {},
   "outputs": [
    {
     "data": {
      "text/plain": [
       "False"
      ]
     },
     "execution_count": 20,
     "metadata": {},
     "output_type": "execute_result"
    }
   ],
   "source": [
    "nx.is_connected(augNet)"
   ]
  },
  {
   "cell_type": "code",
   "execution_count": 21,
   "id": "30376b8f-570b-458d-a828-90afd7e3df36",
   "metadata": {},
   "outputs": [],
   "source": [
    "augNet.add_edges_from(networker.values)"
   ]
  },
  {
   "cell_type": "code",
   "execution_count": 22,
   "id": "8f9a3524-d357-4e1d-aa5e-9c7c44be47b3",
   "metadata": {},
   "outputs": [],
   "source": [
    "# MASSIVE\n",
    "#augNet.nodes"
   ]
  },
  {
   "cell_type": "code",
   "execution_count": 23,
   "id": "0d8c34ef-b79c-4c2b-b865-24f55a321b37",
   "metadata": {},
   "outputs": [
    {
     "data": {
      "image/png": "[encoded data removed]",
      "text/plain": [
       "<Figure size 432x288 with 1 Axes>"
      ]
     },
     "metadata": {},
     "output_type": "display_data"
    }
   ],
   "source": [
    "nx.draw(augNet, with_labels=True)"
   ]
  },
  {
   "cell_type": "code",
   "execution_count": 31,
   "id": "e5bd54b8-8087-42e3-83da-efbf725c25e0",
   "metadata": {},
   "outputs": [],
   "source": [
    "plt.show()  "
   ]
  },
  {
   "cell_type": "markdown",
   "id": "cfa4c3c5-6dbf-4a3a-a42c-ce41b495bbf4",
   "metadata": {},
   "source": [
    "## This does not work. "
   ]
  },
  {
   "cell_type": "code",
   "execution_count": 25,
   "id": "685eeb29-9119-4846-a4a0-1ce6d7d743f7",
   "metadata": {},
   "outputs": [],
   "source": [
    "#augNet.add_nodes_from(networker.repo, bipartite=1)"
   ]
  },
  {
   "cell_type": "code",
   "execution_count": 26,
   "id": "ddd0864b-30f0-4aa3-beda-b9567c5be6d4",
   "metadata": {},
   "outputs": [],
   "source": [
    "#augNet.add_edges_from(networker.values)"
   ]
  },
  {
   "cell_type": "code",
   "execution_count": 27,
   "id": "f670d936-396a-44a1-ab30-fab185c0d54a",
   "metadata": {},
   "outputs": [],
   "source": [
    "#augNet.add_nodes_from(nodecontrb, bipartite=0)"
   ]
  },
  {
   "cell_type": "code",
   "execution_count": 28,
   "id": "60e5e395-df28-4dbc-9cfc-53a485cfba0d",
   "metadata": {},
   "outputs": [],
   "source": [
    "#noderepo2 = np.array2string(noderepo)"
   ]
  },
  {
   "cell_type": "code",
   "execution_count": 29,
   "id": "04fcd537-dd57-4507-9708-643c79e44e6c",
   "metadata": {},
   "outputs": [],
   "source": [
    "#augNet.add_nodes_from[noderepo2, bipartite=1)"
   ]
  },
  {
   "cell_type": "code",
   "execution_count": 30,
   "id": "73c3d3ac-053d-430e-a719-e4fe5522a723",
   "metadata": {},
   "outputs": [],
   "source": [
    "#print(noderepo2)"
   ]
  },
  {
   "cell_type": "markdown",
   "id": "58df7f4e-128b-424f-99ef-8316992ee6eb",
   "metadata": {},
   "source": [
    "https://www.geeksforgeeks.org/numpy-ndarray/"
   ]
  },
  {
   "cell_type": "code",
   "execution_count": null,
   "id": "4f8a3a23-0e1c-463b-9bde-72a80119f3af",
   "metadata": {},
   "outputs": [],
   "source": []
  }
 ],
 "metadata": {
  "kernelspec": {
   "display_name": "Python 3 (ipykernel)",
   "language": "python",
   "name": "python3"
  },
  "language_info": {
   "codemirror_mode": {
    "name": "ipython",
    "version": 3
   },
   "file_extension": ".py",
   "mimetype": "text/x-python",
   "name": "python",
   "nbconvert_exporter": "python",
   "pygments_lexer": "ipython3",
   "version": "3.9.13"
  }
 },
 "nbformat": 4,
 "nbformat_minor": 5
}
