{
 "cells": [
  {
   "cell_type": "markdown",
   "id": "a8e7c8ea-20ce-4fe4-8c0a-1ad9db6505c2",
   "metadata": {},
   "source": [
    "# DiGraph Overview"
   ]
  },
  {
   "cell_type": "markdown",
   "id": "70aa1e56-a495-4f21-974f-17a1250fcbd8",
   "metadata": {},
   "source": [
    "https://networkx.org/documentation/stable/reference/algorithms/bipartite.html?highlight=bipartite#module-networkx.algorithms.bipartite"
   ]
  },
  {
   "cell_type": "code",
   "execution_count": 264,
   "id": "e6572897-502c-4c26-bd25-a8ac6c6d14d4",
   "metadata": {},
   "outputs": [],
   "source": [
    "import networkx as nx\n",
    "import psycopg2\n",
    "import pandas as pd \n",
    "import sqlalchemy as salc\n",
    "import numpy as np\n",
    "import seaborn as sns\n",
    "import matplotlib.pyplot as plt\n",
    "import warnings\n",
    "import datetime\n",
    "import json\n",
    "from networkx.algorithms import bipartite\n",
    "#from networkx.algorithms import digraph\n",
    "warnings.filterwarnings('ignore')\n",
    "\n"
   ]
  },
  {
   "cell_type": "code",
   "execution_count": 265,
   "id": "3103b549-167d-44f6-85e4-7d0444ead3eb",
   "metadata": {},
   "outputs": [],
   "source": [
    "with open(\"config.json\") as config_file:\n",
    "    config = json.load(config_file)\n",
    "\n",
    "database_connection_string = 'postgresql+psycopg2://{}:{}@{}:{}/{}'.format(config['user'], config['password'], config['host'], config['port'], config['database'])\n",
    "\n",
    "dbschema='augur_data'\n",
    "engine = salc.create_engine(\n",
    "    database_connection_string,\n",
    "    connect_args={'options': '-csearch_path={}'.format(dbschema)})"
   ]
  },
  {
   "cell_type": "code",
   "execution_count": 227,
   "id": "bc625db1-63fb-4277-8fcc-b158ff74adc3",
   "metadata": {},
   "outputs": [],
   "source": [
    "DG = nx.DiGraph()"
   ]
  },
  {
   "cell_type": "code",
   "execution_count": 228,
   "id": "efa8d21f-17e1-4d0a-92c4-5c9348f9b56c",
   "metadata": {},
   "outputs": [
    {
     "data": {
      "text/plain": [
       "0.5"
      ]
     },
     "execution_count": 228,
     "metadata": {},
     "output_type": "execute_result"
    }
   ],
   "source": [
    "DG.add_weighted_edges_from([(1, 2, 0.5), (3, 1, 0.75)])\n",
    "\n",
    "DG.out_degree(1, weight='weight')"
   ]
  },
  {
   "cell_type": "code",
   "execution_count": 229,
   "id": "8aecb0df-524d-4e56-b34c-b4820af33da8",
   "metadata": {},
   "outputs": [
    {
     "data": {
      "text/plain": [
       "[2]"
      ]
     },
     "execution_count": 229,
     "metadata": {},
     "output_type": "execute_result"
    }
   ],
   "source": [
    "list(DG.successors(1))\n",
    "\n"
   ]
  },
  {
   "cell_type": "code",
   "execution_count": 230,
   "id": "eaaf42f4-63d1-41cc-8cfb-9eb8ed980b78",
   "metadata": {},
   "outputs": [
    {
     "data": {
      "text/plain": [
       "[2]"
      ]
     },
     "execution_count": 230,
     "metadata": {},
     "output_type": "execute_result"
    }
   ],
   "source": [
    "list(DG.neighbors(1))"
   ]
  },
  {
   "cell_type": "code",
   "execution_count": 231,
   "id": "d2d14b5f-3113-4d29-bbed-d39cddbdcfab",
   "metadata": {},
   "outputs": [
    {
     "data": {
      "image/png": "[encoded data removed]",
      "text/plain": [
       "<Figure size 432x288 with 1 Axes>"
      ]
     },
     "metadata": {},
     "output_type": "display_data"
    }
   ],
   "source": [
    "nx.draw(DG, with_labels=True)"
   ]
  },
  {
   "cell_type": "markdown",
   "id": "38e4c398-8657-4a3f-96bf-1e76b50d0cbe",
   "metadata": {},
   "source": [
    "# Getting Actual Augur Network Data"
   ]
  },
  {
   "cell_type": "code",
   "execution_count": 243,
   "id": "bc912ce9-528c-42d8-883a-a058caf55cc5",
   "metadata": {},
   "outputs": [
    {
     "data": {
      "text/html": [
       "<div>\n",
       "<style scoped>\n",
       "    .dataframe tbody tr th:only-of-type {\n",
       "        vertical-align: middle;\n",
       "    }\n",
       "\n",
       "    .dataframe tbody tr th {\n",
       "        vertical-align: top;\n",
       "    }\n",
       "\n",
       "    .dataframe thead th {\n",
       "        text-align: right;\n",
       "    }\n",
       "</style>\n",
       "<table border=\"1\" class=\"dataframe\">\n",
       "  <thead>\n",
       "    <tr style=\"text-align: right;\">\n",
       "      <th></th>\n",
       "      <th>cntrb_id</th>\n",
       "      <th>repo_id</th>\n",
       "      <th>repo_name</th>\n",
       "      <th>repo_git</th>\n",
       "      <th>login</th>\n",
       "      <th>weight</th>\n",
       "    </tr>\n",
       "  </thead>\n",
       "  <tbody>\n",
       "    <tr>\n",
       "      <th>0</th>\n",
       "      <td>52745</td>\n",
       "      <td>1</td>\n",
       "      <td>rails</td>\n",
       "      <td>https://github.com/rails/rails.git</td>\n",
       "      <td>elliterate</td>\n",
       "      <td>2</td>\n",
       "    </tr>\n",
       "    <tr>\n",
       "      <th>1</th>\n",
       "      <td>56363</td>\n",
       "      <td>1</td>\n",
       "      <td>rails</td>\n",
       "      <td>https://github.com/rails/rails.git</td>\n",
       "      <td>gogainda</td>\n",
       "      <td>1</td>\n",
       "    </tr>\n",
       "    <tr>\n",
       "      <th>2</th>\n",
       "      <td>56592</td>\n",
       "      <td>1</td>\n",
       "      <td>rails</td>\n",
       "      <td>https://github.com/rails/rails.git</td>\n",
       "      <td>clausd</td>\n",
       "      <td>1</td>\n",
       "    </tr>\n",
       "    <tr>\n",
       "      <th>3</th>\n",
       "      <td>26375</td>\n",
       "      <td>1</td>\n",
       "      <td>rails</td>\n",
       "      <td>https://github.com/rails/rails.git</td>\n",
       "      <td>edwinlunando</td>\n",
       "      <td>2</td>\n",
       "    </tr>\n",
       "    <tr>\n",
       "      <th>4</th>\n",
       "      <td>37224</td>\n",
       "      <td>1</td>\n",
       "      <td>rails</td>\n",
       "      <td>https://github.com/rails/rails.git</td>\n",
       "      <td>fredwu</td>\n",
       "      <td>18</td>\n",
       "    </tr>\n",
       "    <tr>\n",
       "      <th>...</th>\n",
       "      <td>...</td>\n",
       "      <td>...</td>\n",
       "      <td>...</td>\n",
       "      <td>...</td>\n",
       "      <td>...</td>\n",
       "      <td>...</td>\n",
       "    </tr>\n",
       "    <tr>\n",
       "      <th>4958</th>\n",
       "      <td>57142</td>\n",
       "      <td>1</td>\n",
       "      <td>rails</td>\n",
       "      <td>https://github.com/rails/rails.git</td>\n",
       "      <td>daigong</td>\n",
       "      <td>1</td>\n",
       "    </tr>\n",
       "    <tr>\n",
       "      <th>4959</th>\n",
       "      <td>56783</td>\n",
       "      <td>1</td>\n",
       "      <td>rails</td>\n",
       "      <td>https://github.com/rails/rails.git</td>\n",
       "      <td>ogonbat</td>\n",
       "      <td>1</td>\n",
       "    </tr>\n",
       "    <tr>\n",
       "      <th>4960</th>\n",
       "      <td>31414</td>\n",
       "      <td>1</td>\n",
       "      <td>rails</td>\n",
       "      <td>https://github.com/rails/rails.git</td>\n",
       "      <td>r00takaspin</td>\n",
       "      <td>1</td>\n",
       "    </tr>\n",
       "    <tr>\n",
       "      <th>4961</th>\n",
       "      <td>33234</td>\n",
       "      <td>1</td>\n",
       "      <td>rails</td>\n",
       "      <td>https://github.com/rails/rails.git</td>\n",
       "      <td>zhuochun</td>\n",
       "      <td>1</td>\n",
       "    </tr>\n",
       "    <tr>\n",
       "      <th>4962</th>\n",
       "      <td>34157</td>\n",
       "      <td>1</td>\n",
       "      <td>rails</td>\n",
       "      <td>https://github.com/rails/rails.git</td>\n",
       "      <td>skorfmann</td>\n",
       "      <td>1</td>\n",
       "    </tr>\n",
       "  </tbody>\n",
       "</table>\n",
       "<p>4963 rows × 6 columns</p>\n",
       "</div>"
      ],
      "text/plain": [
       "      cntrb_id  repo_id repo_name                            repo_git  \\\n",
       "0        52745        1     rails  https://github.com/rails/rails.git   \n",
       "1        56363        1     rails  https://github.com/rails/rails.git   \n",
       "2        56592        1     rails  https://github.com/rails/rails.git   \n",
       "3        26375        1     rails  https://github.com/rails/rails.git   \n",
       "4        37224        1     rails  https://github.com/rails/rails.git   \n",
       "...        ...      ...       ...                                 ...   \n",
       "4958     57142        1     rails  https://github.com/rails/rails.git   \n",
       "4959     56783        1     rails  https://github.com/rails/rails.git   \n",
       "4960     31414        1     rails  https://github.com/rails/rails.git   \n",
       "4961     33234        1     rails  https://github.com/rails/rails.git   \n",
       "4962     34157        1     rails  https://github.com/rails/rails.git   \n",
       "\n",
       "             login  weight  \n",
       "0       elliterate       2  \n",
       "1         gogainda       1  \n",
       "2           clausd       1  \n",
       "3     edwinlunando       2  \n",
       "4           fredwu      18  \n",
       "...            ...     ...  \n",
       "4958       daigong       1  \n",
       "4959       ogonbat       1  \n",
       "4960   r00takaspin       1  \n",
       "4961      zhuochun       1  \n",
       "4962     skorfmann       1  \n",
       "\n",
       "[4963 rows x 6 columns]"
      ]
     },
     "metadata": {},
     "output_type": "display_data"
    },
    {
     "data": {
      "text/plain": [
       "cntrb_id      int64\n",
       "repo_id       int64\n",
       "repo_name    object\n",
       "repo_git     object\n",
       "login        object\n",
       "weight        int64\n",
       "dtype: object"
      ]
     },
     "execution_count": 243,
     "metadata": {},
     "output_type": "execute_result"
    }
   ],
   "source": [
    "contrib_net = pd.DataFrame()\n",
    "\n",
    "net_query = salc.sql.text(f\"\"\"\n",
    "            SELECT \n",
    "                a.cntrb_id,\n",
    "                a.repo_id,\n",
    "                b.repo_name,\n",
    "                b.repo_git,\n",
    "                a.login, \n",
    "                MAX ( RANK ) AS weight \n",
    "            FROM\n",
    "                explorer_contributor_actions a,\n",
    "                repo b \n",
    "            WHERE\n",
    "                a.repo_id = b.repo_id and a.repo_id = 1\n",
    "            GROUP BY\n",
    "                a.cntrb_id,\n",
    "                a.repo_id,\n",
    "                b.repo_name,\n",
    "                b.repo_git,\n",
    "                a.\"login\"\n",
    "            ORDER BY\n",
    "                repo_id;  \n",
    "\n",
    "                \"\"\")\n",
    "\n",
    "network = pd.read_sql(net_query, con=engine)\n",
    "\n",
    "display(network)\n",
    "\n",
    "network.dtypes"
   ]
  },
  {
   "cell_type": "code",
   "execution_count": 244,
   "id": "4f8a3a23-0e1c-463b-9bde-72a80119f3af",
   "metadata": {},
   "outputs": [],
   "source": [
    "augDG = nx.Graph()"
   ]
  },
  {
   "cell_type": "code",
   "execution_count": null,
   "id": "1f1af291-54fc-4507-a0f9-e04430d3f6d2",
   "metadata": {},
   "outputs": [],
   "source": []
  },
  {
   "cell_type": "code",
   "execution_count": 245,
   "id": "63cd4592-e80a-4711-a4a2-7ec1ba8eb62c",
   "metadata": {},
   "outputs": [],
   "source": [
    "weighted_edges = (network['cntrb_id'], network['repo_git'], network['weight'])"
   ]
  },
  {
   "cell_type": "code",
   "execution_count": 246,
   "id": "8e654df6-8057-4646-aa38-d136f5b45af1",
   "metadata": {},
   "outputs": [],
   "source": [
    "networker = pd.DataFrame(weighted_edges)\n",
    "networker = networker.transpose()"
   ]
  },
  {
   "cell_type": "code",
   "execution_count": 247,
   "id": "7b6949fd-b93e-47a4-b9df-240cd4a2ca62",
   "metadata": {},
   "outputs": [],
   "source": [
    "augDG.add_nodes_from(networker['cntrb_id'], bipartite=0)"
   ]
  },
  {
   "cell_type": "code",
   "execution_count": 248,
   "id": "87a0ef4d-2775-4f7a-bf76-18987a8cd2fc",
   "metadata": {},
   "outputs": [],
   "source": [
    "augDG.add_nodes_from(networker['repo_git'], bipartite=1)"
   ]
  },
  {
   "cell_type": "code",
   "execution_count": 249,
   "id": "fe057722-3dfc-4d94-a195-58c51d3f55d3",
   "metadata": {},
   "outputs": [
    {
     "name": "stdout",
     "output_type": "stream",
     "text": [
      "     cntrb_id                            repo_git weight\n",
      "0       52745  https://github.com/rails/rails.git      2\n",
      "1       56363  https://github.com/rails/rails.git      1\n",
      "2       56592  https://github.com/rails/rails.git      1\n",
      "3       26375  https://github.com/rails/rails.git      2\n",
      "4       37224  https://github.com/rails/rails.git     18\n",
      "...       ...                                 ...    ...\n",
      "4958    57142  https://github.com/rails/rails.git      1\n",
      "4959    56783  https://github.com/rails/rails.git      1\n",
      "4960    31414  https://github.com/rails/rails.git      1\n",
      "4961    33234  https://github.com/rails/rails.git      1\n",
      "4962    34157  https://github.com/rails/rails.git      1\n",
      "\n",
      "[4963 rows x 3 columns]\n"
     ]
    }
   ],
   "source": [
    "print(networker)"
   ]
  },
  {
   "cell_type": "code",
   "execution_count": 250,
   "id": "bf95161c-ad55-46bd-9ac8-507659054688",
   "metadata": {},
   "outputs": [],
   "source": [
    "augDG.add_weighted_edges_from([networker])"
   ]
  },
  {
   "cell_type": "code",
   "execution_count": 263,
   "id": "6a567a29-37b9-4697-a2e6-22b521fd07e3",
   "metadata": {},
   "outputs": [
    {
     "ename": "AmbiguousSolution",
     "evalue": "Disconnected graph: Ambiguous solution for bipartite sets.",
     "output_type": "error",
     "traceback": [
      "\u001b[0;31m---------------------------------------------------------------------------\u001b[0m",
      "\u001b[0;31mAmbiguousSolution\u001b[0m                         Traceback (most recent call last)",
      "Input \u001b[0;32mIn [263]\u001b[0m, in \u001b[0;36m<cell line: 1>\u001b[0;34m()\u001b[0m\n\u001b[0;32m----> 1\u001b[0m \u001b[43mnx\u001b[49m\u001b[38;5;241;43m.\u001b[39;49m\u001b[43mbipartite\u001b[49m\u001b[38;5;241;43m.\u001b[39;49m\u001b[43meppstein_matching\u001b[49m\u001b[43m(\u001b[49m\u001b[43maugDG\u001b[49m\u001b[43m)\u001b[49m\n",
      "File \u001b[0;32m~/.virtualenvs/lasi/lib/python3.9/site-packages/networkx/algorithms/bipartite/matching.py:231\u001b[0m, in \u001b[0;36meppstein_matching\u001b[0;34m(G, top_nodes)\u001b[0m\n\u001b[1;32m    183\u001b[0m \u001b[38;5;124;03m\"\"\"Returns the maximum cardinality matching of the bipartite graph `G`.\u001b[39;00m\n\u001b[1;32m    184\u001b[0m \n\u001b[1;32m    185\u001b[0m \u001b[38;5;124;03mParameters\u001b[39;00m\n\u001b[0;32m   (...)\u001b[0m\n\u001b[1;32m    227\u001b[0m \n\u001b[1;32m    228\u001b[0m \u001b[38;5;124;03m\"\"\"\u001b[39;00m\n\u001b[1;32m    229\u001b[0m \u001b[38;5;66;03m# Due to its original implementation, a directed graph is needed\u001b[39;00m\n\u001b[1;32m    230\u001b[0m \u001b[38;5;66;03m# so that the two sets of bipartite nodes can be distinguished\u001b[39;00m\n\u001b[0;32m--> 231\u001b[0m left, right \u001b[38;5;241m=\u001b[39m \u001b[43mbipartite_sets\u001b[49m\u001b[43m(\u001b[49m\u001b[43mG\u001b[49m\u001b[43m,\u001b[49m\u001b[43m \u001b[49m\u001b[43mtop_nodes\u001b[49m\u001b[43m)\u001b[49m\n\u001b[1;32m    232\u001b[0m G \u001b[38;5;241m=\u001b[39m nx\u001b[38;5;241m.\u001b[39mDiGraph(G\u001b[38;5;241m.\u001b[39medges(left))\n\u001b[1;32m    233\u001b[0m \u001b[38;5;66;03m# initialize greedy matching (redundant, but faster than full search)\u001b[39;00m\n",
      "File \u001b[0;32m~/.virtualenvs/lasi/lib/python3.9/site-packages/networkx/algorithms/bipartite/basic.py:213\u001b[0m, in \u001b[0;36msets\u001b[0;34m(G, top_nodes)\u001b[0m\n\u001b[1;32m    211\u001b[0m \u001b[38;5;28;01mif\u001b[39;00m \u001b[38;5;129;01mnot\u001b[39;00m is_connected(G):\n\u001b[1;32m    212\u001b[0m     msg \u001b[38;5;241m=\u001b[39m \u001b[38;5;124m\"\u001b[39m\u001b[38;5;124mDisconnected graph: Ambiguous solution for bipartite sets.\u001b[39m\u001b[38;5;124m\"\u001b[39m\n\u001b[0;32m--> 213\u001b[0m     \u001b[38;5;28;01mraise\u001b[39;00m nx\u001b[38;5;241m.\u001b[39mAmbiguousSolution(msg)\n\u001b[1;32m    214\u001b[0m c \u001b[38;5;241m=\u001b[39m color(G)\n\u001b[1;32m    215\u001b[0m X \u001b[38;5;241m=\u001b[39m {n \u001b[38;5;28;01mfor\u001b[39;00m n, is_top \u001b[38;5;129;01min\u001b[39;00m c\u001b[38;5;241m.\u001b[39mitems() \u001b[38;5;28;01mif\u001b[39;00m is_top}\n",
      "\u001b[0;31mAmbiguousSolution\u001b[0m: Disconnected graph: Ambiguous solution for bipartite sets."
     ]
    }
   ],
   "source": [
    "nx.bipartite.eppstein_matching(augDG) "
   ]
  },
  {
   "cell_type": "code",
   "execution_count": 251,
   "id": "3d8ae7fc-c817-4050-b1b0-37130f5767a6",
   "metadata": {},
   "outputs": [
    {
     "name": "stdout",
     "output_type": "stream",
     "text": [
      "     cntrb_id                            repo_git weight\n",
      "0       52745  https://github.com/rails/rails.git      2\n",
      "1       56363  https://github.com/rails/rails.git      1\n",
      "2       56592  https://github.com/rails/rails.git      1\n",
      "3       26375  https://github.com/rails/rails.git      2\n",
      "4       37224  https://github.com/rails/rails.git     18\n",
      "...       ...                                 ...    ...\n",
      "4958    57142  https://github.com/rails/rails.git      1\n",
      "4959    56783  https://github.com/rails/rails.git      1\n",
      "4960    31414  https://github.com/rails/rails.git      1\n",
      "4961    33234  https://github.com/rails/rails.git      1\n",
      "4962    34157  https://github.com/rails/rails.git      1\n",
      "\n",
      "[4963 rows x 3 columns]\n"
     ]
    }
   ],
   "source": [
    "print(networker)"
   ]
  },
  {
   "cell_type": "code",
   "execution_count": 252,
   "id": "58bd20d5-7a27-4505-9d1b-e25af66b7f87",
   "metadata": {},
   "outputs": [
    {
     "ename": "AmbiguousSolution",
     "evalue": "Disconnected graph: Ambiguous solution for bipartite sets.",
     "output_type": "error",
     "traceback": [
      "\u001b[0;31m---------------------------------------------------------------------------\u001b[0m",
      "\u001b[0;31mAmbiguousSolution\u001b[0m                         Traceback (most recent call last)",
      "Input \u001b[0;32mIn [252]\u001b[0m, in \u001b[0;36m<cell line: 1>\u001b[0;34m()\u001b[0m\n\u001b[0;32m----> 1\u001b[0m X, Y \u001b[38;5;241m=\u001b[39m \u001b[43mbipartite\u001b[49m\u001b[38;5;241;43m.\u001b[39;49m\u001b[43msets\u001b[49m\u001b[43m(\u001b[49m\u001b[43maugDG\u001b[49m\u001b[43m)\u001b[49m\n",
      "File \u001b[0;32m~/.virtualenvs/lasi/lib/python3.9/site-packages/networkx/algorithms/bipartite/basic.py:213\u001b[0m, in \u001b[0;36msets\u001b[0;34m(G, top_nodes)\u001b[0m\n\u001b[1;32m    211\u001b[0m \u001b[38;5;28;01mif\u001b[39;00m \u001b[38;5;129;01mnot\u001b[39;00m is_connected(G):\n\u001b[1;32m    212\u001b[0m     msg \u001b[38;5;241m=\u001b[39m \u001b[38;5;124m\"\u001b[39m\u001b[38;5;124mDisconnected graph: Ambiguous solution for bipartite sets.\u001b[39m\u001b[38;5;124m\"\u001b[39m\n\u001b[0;32m--> 213\u001b[0m     \u001b[38;5;28;01mraise\u001b[39;00m nx\u001b[38;5;241m.\u001b[39mAmbiguousSolution(msg)\n\u001b[1;32m    214\u001b[0m c \u001b[38;5;241m=\u001b[39m color(G)\n\u001b[1;32m    215\u001b[0m X \u001b[38;5;241m=\u001b[39m {n \u001b[38;5;28;01mfor\u001b[39;00m n, is_top \u001b[38;5;129;01min\u001b[39;00m c\u001b[38;5;241m.\u001b[39mitems() \u001b[38;5;28;01mif\u001b[39;00m is_top}\n",
      "\u001b[0;31mAmbiguousSolution\u001b[0m: Disconnected graph: Ambiguous solution for bipartite sets."
     ]
    }
   ],
   "source": [
    "X, Y = bipartite.sets(augDG)"
   ]
  },
  {
   "cell_type": "code",
   "execution_count": 220,
   "id": "12240d8b-30f4-4b96-a661-44c333c31ef1",
   "metadata": {},
   "outputs": [
    {
     "ename": "SyntaxError",
     "evalue": "cannot assign to operator (3333894670.py, line 3)",
     "output_type": "error",
     "traceback": [
      "\u001b[0;36m  Input \u001b[0;32mIn [220]\u001b[0;36m\u001b[0m\n\u001b[0;31m    bottom_nodes = set(augDG) - top_nodestop_nodes = {n for n, d in augDG.nodes(data=True) if d[\"bipartite\"] == 0}\u001b[0m\n\u001b[0m                   ^\u001b[0m\n\u001b[0;31mSyntaxError\u001b[0m\u001b[0;31m:\u001b[0m cannot assign to operator\n"
     ]
    }
   ],
   "source": [
    "top_nodes = {n for n, d in augDG.nodes(data=True) if d[\"bipartite\"] == 0}\n",
    "\n"
   ]
  },
  {
   "cell_type": "code",
   "execution_count": 221,
   "id": "42c63bbf-1d1c-44e5-af16-a80b04ff3211",
   "metadata": {},
   "outputs": [
    {
     "ename": "SyntaxError",
     "evalue": "cannot assign to operator (2550160423.py, line 1)",
     "output_type": "error",
     "traceback": [
      "\u001b[0;36m  Input \u001b[0;32mIn [221]\u001b[0;36m\u001b[0m\n\u001b[0;31m    bottom_nodes = set(augDG) - top_nodestop_nodes = {n for n, d in augDG.nodes(data=True) if d[\"bipartite\"] == 0}\u001b[0m\n\u001b[0m                   ^\u001b[0m\n\u001b[0;31mSyntaxError\u001b[0m\u001b[0;31m:\u001b[0m cannot assign to operator\n"
     ]
    }
   ],
   "source": [
    "bottom_nodes = set(augDG) - top_nodestop_nodes = {n for n, d in augDG.nodes(data=True) if d[\"bipartite\"] == 0}\n",
    "\n",
    "bottom_nodes = set(augDG) - top_nodes"
   ]
  },
  {
   "cell_type": "code",
   "execution_count": 222,
   "id": "d0010ca9-e4b9-4cc4-9ba9-b1b5b6a24338",
   "metadata": {},
   "outputs": [
    {
     "data": {
      "text/plain": [
       "False"
      ]
     },
     "execution_count": 222,
     "metadata": {},
     "output_type": "execute_result"
    }
   ],
   "source": [
    "nx.is_connected(augDG)"
   ]
  },
  {
   "cell_type": "code",
   "execution_count": 219,
   "id": "a3acfd0d-dfdd-4877-92d9-346eddffea8c",
   "metadata": {},
   "outputs": [
    {
     "ename": "KeyError",
     "evalue": "'bipartite'",
     "output_type": "error",
     "traceback": [
      "\u001b[0;31m---------------------------------------------------------------------------\u001b[0m",
      "\u001b[0;31mKeyError\u001b[0m                                  Traceback (most recent call last)",
      "Input \u001b[0;32mIn [219]\u001b[0m, in \u001b[0;36m<cell line: 1>\u001b[0;34m()\u001b[0m\n\u001b[0;32m----> 1\u001b[0m top_nodes\u001b[38;5;241m=\u001b[39m{n \u001b[38;5;28;01mfor\u001b[39;00m n, d \u001b[38;5;129;01min\u001b[39;00m augDG\u001b[38;5;241m.\u001b[39mnodes(data\u001b[38;5;241m=\u001b[39m\u001b[38;5;28;01mTrue\u001b[39;00m) \u001b[38;5;28;01mif\u001b[39;00m d[\u001b[38;5;124m\"\u001b[39m\u001b[38;5;124mbipartite\u001b[39m\u001b[38;5;124m\"\u001b[39m]\u001b[38;5;241m==\u001b[39m\u001b[38;5;241m0\u001b[39m}\n",
      "Input \u001b[0;32mIn [219]\u001b[0m, in \u001b[0;36m<setcomp>\u001b[0;34m(.0)\u001b[0m\n\u001b[0;32m----> 1\u001b[0m top_nodes\u001b[38;5;241m=\u001b[39m{n \u001b[38;5;28;01mfor\u001b[39;00m n, d \u001b[38;5;129;01min\u001b[39;00m augDG\u001b[38;5;241m.\u001b[39mnodes(data\u001b[38;5;241m=\u001b[39m\u001b[38;5;28;01mTrue\u001b[39;00m) \u001b[38;5;28;01mif\u001b[39;00m \u001b[43md\u001b[49m\u001b[43m[\u001b[49m\u001b[38;5;124;43m\"\u001b[39;49m\u001b[38;5;124;43mbipartite\u001b[39;49m\u001b[38;5;124;43m\"\u001b[39;49m\u001b[43m]\u001b[49m\u001b[38;5;241m==\u001b[39m\u001b[38;5;241m0\u001b[39m}\n",
      "\u001b[0;31mKeyError\u001b[0m: 'bipartite'"
     ]
    }
   ],
   "source": [
    "top_nodes={n for n, d in augDG.nodes(data=True) if d[\"bipartite\"]==0}"
   ]
  },
  {
   "cell_type": "code",
   "execution_count": null,
   "id": "bfaf096c-3670-49d0-9c67-714e883c85d2",
   "metadata": {},
   "outputs": [],
   "source": []
  }
 ],
 "metadata": {
  "kernelspec": {
   "display_name": "Python 3 (ipykernel)",
   "language": "python",
   "name": "python3"
  },
  "language_info": {
   "codemirror_mode": {
    "name": "ipython",
    "version": 3
   },
   "file_extension": ".py",
   "mimetype": "text/x-python",
   "name": "python",
   "nbconvert_exporter": "python",
   "pygments_lexer": "ipython3",
   "version": "3.9.13"
  }
 },
 "nbformat": 4,
 "nbformat_minor": 5
}
