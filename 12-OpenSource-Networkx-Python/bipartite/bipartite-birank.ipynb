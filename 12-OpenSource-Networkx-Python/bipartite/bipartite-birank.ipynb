{
 "cells": [
  {
   "cell_type": "markdown",
   "id": "a8e7c8ea-20ce-4fe4-8c0a-1ad9db6505c2",
   "metadata": {},
   "source": [
    "# Birankpy Demo"
   ]
  },
  {
   "cell_type": "code",
   "execution_count": 59,
   "id": "e6572897-502c-4c26-bd25-a8ac6c6d14d4",
   "metadata": {},
   "outputs": [],
   "source": [
    "import networkx as nx\n",
    "import psycopg2\n",
    "import pandas as pd \n",
    "import sqlalchemy as salc\n",
    "import numpy as np\n",
    "import seaborn as sns\n",
    "import matplotlib.pyplot as plt\n",
    "import warnings\n",
    "import datetime\n",
    "import json\n",
    "import scipy\n",
    "from networkx.algorithms import bipartite\n",
    "#from networkx.algorithms import digraph\n",
    "warnings.filterwarnings('ignore')\n",
    "import birankpy\n",
    "\n"
   ]
  },
  {
   "cell_type": "code",
   "execution_count": 60,
   "id": "3103b549-167d-44f6-85e4-7d0444ead3eb",
   "metadata": {},
   "outputs": [],
   "source": [
    "with open(\"config.json\") as config_file:\n",
    "    config = json.load(config_file)\n",
    "\n",
    "database_connection_string = 'postgresql+psycopg2://{}:{}@{}:{}/{}'.format(config['user'], config['password'], config['host'], config['port'], config['database'])\n",
    "\n",
    "dbschema='augur_data'\n",
    "engine = salc.create_engine(\n",
    "    database_connection_string,\n",
    "    connect_args={'options': '-csearch_path={}'.format(dbschema)})"
   ]
  },
  {
   "cell_type": "markdown",
   "id": "38e4c398-8657-4a3f-96bf-1e76b50d0cbe",
   "metadata": {},
   "source": [
    "# Getting Actual Augur Network Data"
   ]
  },
  {
   "cell_type": "code",
   "execution_count": 61,
   "id": "bc912ce9-528c-42d8-883a-a058caf55cc5",
   "metadata": {},
   "outputs": [
    {
     "data": {
      "text/html": [
       "<div>\n",
       "<style scoped>\n",
       "    .dataframe tbody tr th:only-of-type {\n",
       "        vertical-align: middle;\n",
       "    }\n",
       "\n",
       "    .dataframe tbody tr th {\n",
       "        vertical-align: top;\n",
       "    }\n",
       "\n",
       "    .dataframe thead th {\n",
       "        text-align: right;\n",
       "    }\n",
       "</style>\n",
       "<table border=\"1\" class=\"dataframe\">\n",
       "  <thead>\n",
       "    <tr style=\"text-align: right;\">\n",
       "      <th></th>\n",
       "      <th>cntrb_id</th>\n",
       "      <th>repo_id</th>\n",
       "      <th>repo_name</th>\n",
       "      <th>repo_git</th>\n",
       "      <th>login</th>\n",
       "      <th>weight</th>\n",
       "    </tr>\n",
       "  </thead>\n",
       "  <tbody>\n",
       "    <tr>\n",
       "      <th>0</th>\n",
       "      <td>25537</td>\n",
       "      <td>1</td>\n",
       "      <td>rails</td>\n",
       "      <td>https://github.com/rails/rails.git</td>\n",
       "      <td>jcoyne</td>\n",
       "      <td>49</td>\n",
       "    </tr>\n",
       "    <tr>\n",
       "      <th>1</th>\n",
       "      <td>25566</td>\n",
       "      <td>1</td>\n",
       "      <td>rails</td>\n",
       "      <td>https://github.com/rails/rails.git</td>\n",
       "      <td>jeremyf</td>\n",
       "      <td>8</td>\n",
       "    </tr>\n",
       "    <tr>\n",
       "      <th>2</th>\n",
       "      <td>25577</td>\n",
       "      <td>1</td>\n",
       "      <td>rails</td>\n",
       "      <td>https://github.com/rails/rails.git</td>\n",
       "      <td>cbeer</td>\n",
       "      <td>1</td>\n",
       "    </tr>\n",
       "    <tr>\n",
       "      <th>3</th>\n",
       "      <td>25635</td>\n",
       "      <td>1</td>\n",
       "      <td>rails</td>\n",
       "      <td>https://github.com/rails/rails.git</td>\n",
       "      <td>twalpole</td>\n",
       "      <td>10</td>\n",
       "    </tr>\n",
       "    <tr>\n",
       "      <th>4</th>\n",
       "      <td>25952</td>\n",
       "      <td>1</td>\n",
       "      <td>rails</td>\n",
       "      <td>https://github.com/rails/rails.git</td>\n",
       "      <td>nicolasfranck</td>\n",
       "      <td>1</td>\n",
       "    </tr>\n",
       "    <tr>\n",
       "      <th>...</th>\n",
       "      <td>...</td>\n",
       "      <td>...</td>\n",
       "      <td>...</td>\n",
       "      <td>...</td>\n",
       "      <td>...</td>\n",
       "      <td>...</td>\n",
       "    </tr>\n",
       "    <tr>\n",
       "      <th>22322</th>\n",
       "      <td>25640</td>\n",
       "      <td>26093</td>\n",
       "      <td>xslt</td>\n",
       "      <td>https://github.com/ropensci/xslt</td>\n",
       "      <td>cboettig</td>\n",
       "      <td>1</td>\n",
       "    </tr>\n",
       "    <tr>\n",
       "      <th>22323</th>\n",
       "      <td>25678</td>\n",
       "      <td>26093</td>\n",
       "      <td>xslt</td>\n",
       "      <td>https://github.com/ropensci/xslt</td>\n",
       "      <td>jimhester</td>\n",
       "      <td>3</td>\n",
       "    </tr>\n",
       "    <tr>\n",
       "      <th>22324</th>\n",
       "      <td>25717</td>\n",
       "      <td>26093</td>\n",
       "      <td>xslt</td>\n",
       "      <td>https://github.com/ropensci/xslt</td>\n",
       "      <td>zkamvar</td>\n",
       "      <td>1</td>\n",
       "    </tr>\n",
       "    <tr>\n",
       "      <th>22325</th>\n",
       "      <td>42393</td>\n",
       "      <td>26093</td>\n",
       "      <td>xslt</td>\n",
       "      <td>https://github.com/ropensci/xslt</td>\n",
       "      <td>oggioniale</td>\n",
       "      <td>1</td>\n",
       "    </tr>\n",
       "    <tr>\n",
       "      <th>22326</th>\n",
       "      <td>51433</td>\n",
       "      <td>26093</td>\n",
       "      <td>xslt</td>\n",
       "      <td>https://github.com/ropensci/xslt</td>\n",
       "      <td>thomaszumbrunn</td>\n",
       "      <td>1</td>\n",
       "    </tr>\n",
       "  </tbody>\n",
       "</table>\n",
       "<p>22327 rows × 6 columns</p>\n",
       "</div>"
      ],
      "text/plain": [
       "       cntrb_id  repo_id repo_name                            repo_git  \\\n",
       "0         25537        1     rails  https://github.com/rails/rails.git   \n",
       "1         25566        1     rails  https://github.com/rails/rails.git   \n",
       "2         25577        1     rails  https://github.com/rails/rails.git   \n",
       "3         25635        1     rails  https://github.com/rails/rails.git   \n",
       "4         25952        1     rails  https://github.com/rails/rails.git   \n",
       "...         ...      ...       ...                                 ...   \n",
       "22322     25640    26093      xslt    https://github.com/ropensci/xslt   \n",
       "22323     25678    26093      xslt    https://github.com/ropensci/xslt   \n",
       "22324     25717    26093      xslt    https://github.com/ropensci/xslt   \n",
       "22325     42393    26093      xslt    https://github.com/ropensci/xslt   \n",
       "22326     51433    26093      xslt    https://github.com/ropensci/xslt   \n",
       "\n",
       "                login  weight  \n",
       "0              jcoyne      49  \n",
       "1             jeremyf       8  \n",
       "2               cbeer       1  \n",
       "3            twalpole      10  \n",
       "4       nicolasfranck       1  \n",
       "...               ...     ...  \n",
       "22322        cboettig       1  \n",
       "22323       jimhester       3  \n",
       "22324         zkamvar       1  \n",
       "22325      oggioniale       1  \n",
       "22326  thomaszumbrunn       1  \n",
       "\n",
       "[22327 rows x 6 columns]"
      ]
     },
     "metadata": {},
     "output_type": "display_data"
    },
    {
     "data": {
      "text/plain": [
       "cntrb_id      int64\n",
       "repo_id       int64\n",
       "repo_name    object\n",
       "repo_git     object\n",
       "login        object\n",
       "weight        int64\n",
       "dtype: object"
      ]
     },
     "execution_count": 61,
     "metadata": {},
     "output_type": "execute_result"
    }
   ],
   "source": [
    "contrib_net = pd.DataFrame()\n",
    "\n",
    "net_query = salc.sql.text(f\"\"\"\n",
    "            SELECT \n",
    "                a.cntrb_id,\n",
    "                a.repo_id,\n",
    "                b.repo_name,\n",
    "                b.repo_git,\n",
    "                a.login, \n",
    "                MAX ( RANK ) AS weight \n",
    "            FROM\n",
    "                explorer_contributor_actions a,\n",
    "                repo b \n",
    "            WHERE\n",
    "                a.repo_id = b.repo_id -- and a.repo_id = 1\n",
    "            GROUP BY\n",
    "                a.cntrb_id,\n",
    "                a.repo_id,\n",
    "                b.repo_name,\n",
    "                b.repo_git,\n",
    "                a.\"login\"\n",
    "            ORDER BY\n",
    "                repo_id;  \n",
    "\n",
    "                \"\"\")\n",
    "\n",
    "network = pd.read_sql(net_query, con=engine)\n",
    "\n",
    "display(network)\n",
    "\n",
    "network.dtypes"
   ]
  },
  {
   "cell_type": "code",
   "execution_count": 62,
   "id": "63cd4592-e80a-4711-a4a2-7ec1ba8eb62c",
   "metadata": {},
   "outputs": [],
   "source": [
    "weighted_edges = (network['cntrb_id'], network['repo_git'], network['weight'])"
   ]
  },
  {
   "cell_type": "code",
   "execution_count": 63,
   "id": "8e654df6-8057-4646-aa38-d136f5b45af1",
   "metadata": {},
   "outputs": [],
   "source": [
    "networker = pd.DataFrame(weighted_edges)\n",
    "networker = networker.transpose()"
   ]
  },
  {
   "cell_type": "code",
   "execution_count": 64,
   "id": "352c27cd-3209-4c06-bc70-8a043df7d7e8",
   "metadata": {},
   "outputs": [
    {
     "data": {
      "text/plain": [
       "16518"
      ]
     },
     "execution_count": 64,
     "metadata": {},
     "output_type": "execute_result"
    }
   ],
   "source": [
    "networker.cntrb_id.nunique()"
   ]
  },
  {
   "cell_type": "code",
   "execution_count": 65,
   "id": "5fc51e1b-c655-4993-95db-8d137127d0a2",
   "metadata": {},
   "outputs": [
    {
     "data": {
      "text/plain": [
       "730"
      ]
     },
     "execution_count": 65,
     "metadata": {},
     "output_type": "execute_result"
    }
   ],
   "source": [
    "networker.repo_git.nunique()"
   ]
  },
  {
   "cell_type": "code",
   "execution_count": 66,
   "id": "f82dc6a8-4bae-4319-9f75-926d454bbea8",
   "metadata": {},
   "outputs": [],
   "source": [
    "bn = birankpy.BipartiteNetwork()"
   ]
  },
  {
   "cell_type": "code",
   "execution_count": 67,
   "id": "e57987e8-5536-4895-88cd-f370de20baef",
   "metadata": {},
   "outputs": [],
   "source": [
    "bn.set_edgelist(\n",
    "    networker,\n",
    "    top_col='cntrb_id', bottom_col='repo_git',\n",
    "    weight_col='weight'\n",
    ")"
   ]
  },
  {
   "cell_type": "code",
   "execution_count": 68,
   "id": "6d12bdeb-93f4-4d24-8074-abf92b2063fa",
   "metadata": {},
   "outputs": [],
   "source": [
    "char_birank_df, _ = bn.generate_birank(normalizer='HITS')\n"
   ]
  },
  {
   "cell_type": "code",
   "execution_count": 69,
   "id": "6d4d5b70-0219-4093-865a-141585594683",
   "metadata": {},
   "outputs": [
    {
     "data": {
      "text/html": [
       "<div>\n",
       "<style scoped>\n",
       "    .dataframe tbody tr th:only-of-type {\n",
       "        vertical-align: middle;\n",
       "    }\n",
       "\n",
       "    .dataframe tbody tr th {\n",
       "        vertical-align: top;\n",
       "    }\n",
       "\n",
       "    .dataframe thead th {\n",
       "        text-align: right;\n",
       "    }\n",
       "</style>\n",
       "<table border=\"1\" class=\"dataframe\">\n",
       "  <thead>\n",
       "    <tr style=\"text-align: right;\">\n",
       "      <th></th>\n",
       "      <th>cntrb_id</th>\n",
       "      <th>cntrb_id_birank</th>\n",
       "    </tr>\n",
       "  </thead>\n",
       "  <tbody>\n",
       "    <tr>\n",
       "      <th>5650</th>\n",
       "      <td>33503</td>\n",
       "      <td>0.187423</td>\n",
       "    </tr>\n",
       "    <tr>\n",
       "      <th>6878</th>\n",
       "      <td>35292</td>\n",
       "      <td>0.165801</td>\n",
       "    </tr>\n",
       "    <tr>\n",
       "      <th>5743</th>\n",
       "      <td>35302</td>\n",
       "      <td>0.153642</td>\n",
       "    </tr>\n",
       "    <tr>\n",
       "      <th>7282</th>\n",
       "      <td>36103</td>\n",
       "      <td>0.048182</td>\n",
       "    </tr>\n",
       "    <tr>\n",
       "      <th>6881</th>\n",
       "      <td>35298</td>\n",
       "      <td>0.033599</td>\n",
       "    </tr>\n",
       "  </tbody>\n",
       "</table>\n",
       "</div>"
      ],
      "text/plain": [
       "     cntrb_id  cntrb_id_birank\n",
       "5650    33503         0.187423\n",
       "6878    35292         0.165801\n",
       "5743    35302         0.153642\n",
       "7282    36103         0.048182\n",
       "6881    35298         0.033599"
      ]
     },
     "execution_count": 69,
     "metadata": {},
     "output_type": "execute_result"
    }
   ],
   "source": [
    "char_birank_df.sort_values(by='cntrb_id_birank', ascending=False).head()"
   ]
  },
  {
   "cell_type": "code",
   "execution_count": 70,
   "id": "21ac9550-94ba-45a0-9084-dc4aba02b49d",
   "metadata": {},
   "outputs": [
    {
     "data": {
      "text/html": [
       "<div>\n",
       "<style scoped>\n",
       "    .dataframe tbody tr th:only-of-type {\n",
       "        vertical-align: middle;\n",
       "    }\n",
       "\n",
       "    .dataframe tbody tr th {\n",
       "        vertical-align: top;\n",
       "    }\n",
       "\n",
       "    .dataframe thead th {\n",
       "        text-align: right;\n",
       "    }\n",
       "</style>\n",
       "<table border=\"1\" class=\"dataframe\">\n",
       "  <thead>\n",
       "    <tr style=\"text-align: right;\">\n",
       "      <th></th>\n",
       "      <th>cntrb_id</th>\n",
       "      <th>cntrb_id_birank</th>\n",
       "    </tr>\n",
       "  </thead>\n",
       "  <tbody>\n",
       "    <tr>\n",
       "      <th>5242</th>\n",
       "      <td>25437</td>\n",
       "      <td>0.045981</td>\n",
       "    </tr>\n",
       "    <tr>\n",
       "      <th>9938</th>\n",
       "      <td>25447</td>\n",
       "      <td>0.032649</td>\n",
       "    </tr>\n",
       "    <tr>\n",
       "      <th>9941</th>\n",
       "      <td>25640</td>\n",
       "      <td>0.013208</td>\n",
       "    </tr>\n",
       "    <tr>\n",
       "      <th>12917</th>\n",
       "      <td>25702</td>\n",
       "      <td>0.011408</td>\n",
       "    </tr>\n",
       "    <tr>\n",
       "      <th>12222</th>\n",
       "      <td>25735</td>\n",
       "      <td>0.008872</td>\n",
       "    </tr>\n",
       "  </tbody>\n",
       "</table>\n",
       "</div>"
      ],
      "text/plain": [
       "      cntrb_id  cntrb_id_birank\n",
       "5242     25437         0.045981\n",
       "9938     25447         0.032649\n",
       "9941     25640         0.013208\n",
       "12917    25702         0.011408\n",
       "12222    25735         0.008872"
      ]
     },
     "execution_count": 70,
     "metadata": {},
     "output_type": "execute_result"
    }
   ],
   "source": [
    "char_birank_df, _ = bn.generate_birank(normalizer='CoHITS')\n",
    "char_birank_df.sort_values(by='cntrb_id_birank', ascending=False).head()"
   ]
  },
  {
   "cell_type": "code",
   "execution_count": 71,
   "id": "fbed9df0-5905-4ddf-be8a-e04a52e905d8",
   "metadata": {},
   "outputs": [
    {
     "data": {
      "text/plain": [
       "16518"
      ]
     },
     "execution_count": 71,
     "metadata": {},
     "output_type": "execute_result"
    }
   ],
   "source": [
    "len(char_birank_df)"
   ]
  },
  {
   "cell_type": "code",
   "execution_count": 75,
   "id": "b7f9453b-a736-4c26-918c-872fb967338b",
   "metadata": {},
   "outputs": [],
   "source": [
    "char_birank_df['rank-z'] = scipy.stats.zscore(char_birank_df['cntrb_id_birank'])"
   ]
  },
  {
   "cell_type": "code",
   "execution_count": 76,
   "id": "f6675706-8b89-481e-b1a0-85171d46e816",
   "metadata": {},
   "outputs": [
    {
     "data": {
      "image/png": "[encoded data removed]",
      "text/plain": [
       "<Figure size 432x288 with 1 Axes>"
      ]
     },
     "metadata": {
      "needs_background": "light"
     },
     "output_type": "display_data"
    }
   ],
   "source": [
    "char_birank_df.plot(kind='scatter',x='cntrb_id',y='rank-z',color='red')\n",
    "plt.show()"
   ]
  },
  {
   "cell_type": "code",
   "execution_count": 77,
   "id": "30dfe2ca-df6b-4cdd-9fb6-8981cb8fe8b5",
   "metadata": {},
   "outputs": [
    {
     "name": "stdout",
     "output_type": "stream",
     "text": [
      "      cntrb_id  cntrb_id_birank    rank-z\n",
      "0        25537         0.005204  9.431864\n",
      "1        25566         0.001203  2.094364\n",
      "2        25577         0.004088  7.384724\n",
      "3        25635         0.000065  0.009010\n",
      "4        25952         0.000029 -0.058121\n",
      "...        ...              ...       ...\n",
      "16513    51420         0.000021 -0.073392\n",
      "16514    51442         0.000021 -0.073392\n",
      "16515    51451         0.000021 -0.073392\n",
      "16516    51459         0.000032 -0.052425\n",
      "16517    51433         0.000034 -0.049115\n",
      "\n",
      "[16518 rows x 3 columns]\n"
     ]
    }
   ],
   "source": [
    "print(char_birank_df)"
   ]
  },
  {
   "cell_type": "code",
   "execution_count": 80,
   "id": "ae7dfbdd-f1e7-4738-95f2-0e289713bb05",
   "metadata": {},
   "outputs": [
    {
     "data": {
      "text/plain": [
       "<Figure size 2160x4680 with 0 Axes>"
      ]
     },
     "metadata": {},
     "output_type": "display_data"
    }
   ],
   "source": [
    "f = plt.figure()\n",
    "f.set_figwidth(30)\n",
    "f.set_figheight(65)"
   ]
  },
  {
   "cell_type": "code",
   "execution_count": null,
   "id": "463c50a6-0bbe-4735-9042-75b92b00176f",
   "metadata": {},
   "outputs": [],
   "source": [
    "char_birank_df.plot(kind='bar',x='cntrb_id',y='rank-z',color='red')\n",
    "plt.show()"
   ]
  },
  {
   "cell_type": "code",
   "execution_count": null,
   "id": "886d84f4-d8bb-4eac-b2af-68ec8c256807",
   "metadata": {},
   "outputs": [],
   "source": []
  }
 ],
 "metadata": {
  "kernelspec": {
   "display_name": "Python 3 (ipykernel)",
   "language": "python",
   "name": "python3"
  },
  "language_info": {
   "codemirror_mode": {
    "name": "ipython",
    "version": 3
   },
   "file_extension": ".py",
   "mimetype": "text/x-python",
   "name": "python",
   "nbconvert_exporter": "python",
   "pygments_lexer": "ipython3",
   "version": "3.9.13"
  }
 },
 "nbformat": 4,
 "nbformat_minor": 5
}
